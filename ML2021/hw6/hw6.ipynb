{
 "cells": [
  {
   "cell_type": "code",
   "execution_count": null,
   "id": "45233858",
   "metadata": {},
   "outputs": [],
   "source": [
    "!stylegan2_pytorch --data ./faces"
   ]
  },
  {
   "cell_type": "code",
   "execution_count": 1,
   "id": "a80bc98c",
   "metadata": {},
   "outputs": [
    {
     "name": "stdout",
     "output_type": "stream",
     "text": [
      "continuing from previous epoch - 80\n",
      "loading from version 1.8.1\n",
      "100%|███████████████████████████████████████| 1000/1000 [00:42<00:00, 23.75it/s]\n",
      "sample images generated at ./generate/default/generated-05-12-2021_18-26-39\n"
     ]
    }
   ],
   "source": [
    "!stylegan2_pytorch  --generate --results_dir ./generate --image_size 64 --num_generate 1000 --num_image_tiles 1 "
   ]
  },
  {
   "cell_type": "code",
   "execution_count": 2,
   "id": "1a2d8027",
   "metadata": {},
   "outputs": [],
   "source": [
    "\n",
    "!mkdir generate/default/origin\n",
    "!mkdir generate/default/mr\n",
    "!mkdir generate/default/ema"
   ]
  },
  {
   "cell_type": "code",
   "execution_count": 3,
   "id": "a950112a",
   "metadata": {},
   "outputs": [],
   "source": [
    "!mv generate/default/*-mr.jpg generate/default/mr"
   ]
  },
  {
   "cell_type": "code",
   "execution_count": 4,
   "id": "9cb83d15",
   "metadata": {},
   "outputs": [],
   "source": [
    "!mv generate/default/*-ema.jpg generate/default/ema"
   ]
  },
  {
   "cell_type": "code",
   "execution_count": 5,
   "id": "f77db6bf",
   "metadata": {},
   "outputs": [],
   "source": [
    "!mv generate/default/*.jpg generate/default/origin"
   ]
  },
  {
   "cell_type": "code",
   "execution_count": 6,
   "id": "bb3fd4ef",
   "metadata": {},
   "outputs": [],
   "source": [
    "!ls -v generate/default/mr | cat -n| while read n f; do mv -n generate/default/mr/\"$f\" generate/default/mr/\"$n.jpg\"; done"
   ]
  },
  {
   "cell_type": "code",
   "execution_count": 7,
   "id": "237475dd",
   "metadata": {},
   "outputs": [],
   "source": [
    "!ls -v generate/default/ema | cat -n| while read n f; do mv -n generate/default/ema/\"$f\" generate/default/ema/\"$n.jpg\"; done"
   ]
  },
  {
   "cell_type": "code",
   "execution_count": 8,
   "id": "044ab8f0",
   "metadata": {},
   "outputs": [],
   "source": [
    "!ls -v generate/default/origin | cat -n| while read n f; do mv -n generate/default/origin/\"$f\" generate/default/origin/\"$n.jpg\"; done"
   ]
  },
  {
   "cell_type": "code",
   "execution_count": 9,
   "id": "4e33d576",
   "metadata": {},
   "outputs": [],
   "source": [
    "import cv2\n",
    "for i in range(1,1001):\n",
    "    img = cv2.imread(\"generate/default/mr/\" + str(i) + \".jpg\")\n",
    "    img = cv2.resize(img, (64, 64), interpolation=cv2.INTER_AREA)\n",
    "    cv2.imwrite(\"generate/default/mr/\" + str(i) + \".jpg\",img,[int(cv2.IMWRITE_JPEG_QUALITY), 90])\n",
    "for i in range(1,1001):\n",
    "    img = cv2.imread(\"generate/default/ema/\" + str(i) + \".jpg\")\n",
    "    img = cv2.resize(img, (64, 64), interpolation=cv2.INTER_AREA)\n",
    "    cv2.imwrite(\"generate/default/ema/\" + str(i) + \".jpg\",img,[int(cv2.IMWRITE_JPEG_QUALITY), 90])\n",
    "for i in range(1,1001):\n",
    "    img = cv2.imread(\"generate/default/origin/\" + str(i) + \".jpg\")\n",
    "    img = cv2.resize(img, (64, 64), interpolation=cv2.INTER_AREA)\n",
    "    cv2.imwrite(\"generate/default/origin/\" + str(i) + \".jpg\",img,[int(cv2.IMWRITE_JPEG_QUALITY), 90])"
   ]
  },
  {
   "cell_type": "code",
   "execution_count": 11,
   "id": "421dce1a",
   "metadata": {},
   "outputs": [
    {
     "name": "stdout",
     "output_type": "stream",
     "text": [
      "/home/bill/Desktop/Graduate_course/ML2021/hw6/generate/default/mr\n",
      "/home/bill/Desktop/Graduate_course/ML2021/hw6/generate/default\n"
     ]
    }
   ],
   "source": [
    "%cd generate/default/mr\n",
    "!tar -zcf ../../../images.tgz *.jpg\n",
    "%cd ../../.."
   ]
  },
  {
   "cell_type": "code",
   "execution_count": null,
   "id": "66fdcd8d",
   "metadata": {},
   "outputs": [],
   "source": []
  }
 ],
 "metadata": {
  "kernelspec": {
   "display_name": "Python 3",
   "language": "python",
   "name": "python3"
  },
  "language_info": {
   "codemirror_mode": {
    "name": "ipython",
    "version": 3
   },
   "file_extension": ".py",
   "mimetype": "text/x-python",
   "name": "python",
   "nbconvert_exporter": "python",
   "pygments_lexer": "ipython3",
   "version": "3.8.5"
  }
 },
 "nbformat": 4,
 "nbformat_minor": 5
}
