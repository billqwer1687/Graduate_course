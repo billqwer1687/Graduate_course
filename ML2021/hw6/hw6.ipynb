{
  "nbformat": 4,
  "nbformat_minor": 5,
  "metadata": {
    "kernelspec": {
      "display_name": "Python 3",
      "language": "python",
      "name": "python3"
    },
    "language_info": {
      "codemirror_mode": {
        "name": "ipython",
        "version": 3
      },
      "file_extension": ".py",
      "mimetype": "text/x-python",
      "name": "python",
      "nbconvert_exporter": "python",
      "pygments_lexer": "ipython3",
      "version": "3.8.5"
    },
    "colab": {
      "name": "hw6.ipynb",
      "provenance": []
    }
  },
  "cells": [
    {
      "cell_type": "code",
      "metadata": {
        "id": "45233858"
      },
      "source": [
        "!stylegan2_pytorch --data ./faces"
      ],
      "id": "45233858",
      "execution_count": null,
      "outputs": []
    },
    {
      "cell_type": "code",
      "metadata": {
        "id": "a80bc98c",
        "outputId": "6abee2f2-e67f-410d-d2b3-a03619cb61a3"
      },
      "source": [
        "!stylegan2_pytorch  --generate --results_dir ./generate --image_size 64 --num_generate 1000 --num_image_tiles 1 "
      ],
      "id": "a80bc98c",
      "execution_count": null,
      "outputs": [
        {
          "output_type": "stream",
          "text": [
            "continuing from previous epoch - 80\n",
            "loading from version 1.8.1\n",
            "100%|███████████████████████████████████████| 1000/1000 [00:42<00:00, 23.75it/s]\n",
            "sample images generated at ./generate/default/generated-05-12-2021_18-26-39\n"
          ],
          "name": "stdout"
        }
      ]
    },
    {
      "cell_type": "code",
      "metadata": {
        "id": "1a2d8027"
      },
      "source": [
        "\n",
        "!mkdir generate/default/origin\n",
        "!mkdir generate/default/mr\n",
        "!mkdir generate/default/ema"
      ],
      "id": "1a2d8027",
      "execution_count": null,
      "outputs": []
    },
    {
      "cell_type": "code",
      "metadata": {
        "id": "a950112a"
      },
      "source": [
        "!mv generate/default/*-mr.jpg generate/default/mr"
      ],
      "id": "a950112a",
      "execution_count": null,
      "outputs": []
    },
    {
      "cell_type": "code",
      "metadata": {
        "id": "9cb83d15"
      },
      "source": [
        "!mv generate/default/*-ema.jpg generate/default/ema"
      ],
      "id": "9cb83d15",
      "execution_count": null,
      "outputs": []
    },
    {
      "cell_type": "code",
      "metadata": {
        "id": "f77db6bf"
      },
      "source": [
        "!mv generate/default/*.jpg generate/default/origin"
      ],
      "id": "f77db6bf",
      "execution_count": null,
      "outputs": []
    },
    {
      "cell_type": "code",
      "metadata": {
        "id": "bb3fd4ef"
      },
      "source": [
        "!ls -v generate/default/mr | cat -n| while read n f; do mv -n generate/default/mr/\"$f\" generate/default/mr/\"$n.jpg\"; done"
      ],
      "id": "bb3fd4ef",
      "execution_count": null,
      "outputs": []
    },
    {
      "cell_type": "code",
      "metadata": {
        "id": "237475dd"
      },
      "source": [
        "!ls -v generate/default/ema | cat -n| while read n f; do mv -n generate/default/ema/\"$f\" generate/default/ema/\"$n.jpg\"; done"
      ],
      "id": "237475dd",
      "execution_count": null,
      "outputs": []
    },
    {
      "cell_type": "code",
      "metadata": {
        "id": "044ab8f0"
      },
      "source": [
        "!ls -v generate/default/origin | cat -n| while read n f; do mv -n generate/default/origin/\"$f\" generate/default/origin/\"$n.jpg\"; done"
      ],
      "id": "044ab8f0",
      "execution_count": null,
      "outputs": []
    },
    {
      "cell_type": "code",
      "metadata": {
        "id": "4e33d576"
      },
      "source": [
        "import cv2\n",
        "for i in range(1,1001):\n",
        "    img = cv2.imread(\"generate/default/mr/\" + str(i) + \".jpg\")\n",
        "    img = cv2.resize(img, (64, 64), interpolation=cv2.INTER_AREA)\n",
        "    cv2.imwrite(\"generate/default/mr/\" + str(i) + \".jpg\",img,[int(cv2.IMWRITE_JPEG_QUALITY), 90])\n",
        "for i in range(1,1001):\n",
        "    img = cv2.imread(\"generate/default/ema/\" + str(i) + \".jpg\")\n",
        "    img = cv2.resize(img, (64, 64), interpolation=cv2.INTER_AREA)\n",
        "    cv2.imwrite(\"generate/default/ema/\" + str(i) + \".jpg\",img,[int(cv2.IMWRITE_JPEG_QUALITY), 90])\n",
        "for i in range(1,1001):\n",
        "    img = cv2.imread(\"generate/default/origin/\" + str(i) + \".jpg\")\n",
        "    img = cv2.resize(img, (64, 64), interpolation=cv2.INTER_AREA)\n",
        "    cv2.imwrite(\"generate/default/origin/\" + str(i) + \".jpg\",img,[int(cv2.IMWRITE_JPEG_QUALITY), 90])"
      ],
      "id": "4e33d576",
      "execution_count": null,
      "outputs": []
    },
    {
      "cell_type": "code",
      "metadata": {
        "id": "421dce1a",
        "outputId": "880b8292-e386-4119-834c-b9dc9fba18a5"
      },
      "source": [
        "%cd generate/default/mr\n",
        "!tar -zcf ../../../images.tgz *.jpg\n",
        "%cd ../../.."
      ],
      "id": "421dce1a",
      "execution_count": null,
      "outputs": [
        {
          "output_type": "stream",
          "text": [
            "/home/bill/Desktop/Graduate_course/ML2021/hw6/generate/default/mr\n",
            "/home/bill/Desktop/Graduate_course/ML2021/hw6/generate/default\n"
          ],
          "name": "stdout"
        }
      ]
    },
    {
      "cell_type": "markdown",
      "metadata": {
        "id": "NVBWTWH_S0n_"
      },
      "source": [
        "# Reference"
      ],
      "id": "NVBWTWH_S0n_"
    },
    {
      "cell_type": "code",
      "metadata": {
        "id": "66fdcd8d"
      },
      "source": [
        "StyleGan2_Pytorch github:https://github.com/lucidrains/stylegan2-pytorch\n",
        "\n",
        "@article{Karras2019stylegan2,\n",
        "    title   = {Analyzing and Improving the Image Quality of {StyleGAN}},\n",
        "    author  = {Tero Karras and Samuli Laine and Miika Aittala and Janne Hellsten and Jaakko Lehtinen and Timo Aila},\n",
        "    journal = {CoRR},\n",
        "    volume  = {abs/1912.04958},\n",
        "    year    = {2019},\n",
        "}\n",
        "\n",
        "@misc{zhao2020feature,\n",
        "    title   = {Feature Quantization Improves GAN Training},\n",
        "    author  = {Yang Zhao and Chunyuan Li and Ping Yu and Jianfeng Gao and Changyou Chen},\n",
        "    year    = {2020}\n",
        "}\n",
        "\n",
        "@misc{chen2020simple,\n",
        "    title   = {A Simple Framework for Contrastive Learning of Visual Representations},\n",
        "    author  = {Ting Chen and Simon Kornblith and Mohammad Norouzi and Geoffrey Hinton},\n",
        "    year    = {2020}\n",
        "}\n",
        "\n",
        "@article{,\n",
        "    title     = {Oxford 102 Flowers},\n",
        "    author    = {Nilsback, M-E. and Zisserman, A., 2008},\n",
        "    abstract  = {A 102 category dataset consisting of 102 flower categories, commonly occuring in the United Kingdom. Each class consists of 40 to 258 images. The images have large scale, pose and light variations.}\n",
        "}\n",
        "\n",
        "@article{afifi201911k,\n",
        "    title   = {11K Hands: gender recognition and biometric identification using a large dataset of hand images},\n",
        "    author  = {Afifi, Mahmoud},\n",
        "    journal = {Multimedia Tools and Applications}\n",
        "}\n",
        "\n",
        "@misc{zhang2018selfattention,\n",
        "    title   = {Self-Attention Generative Adversarial Networks},\n",
        "    author  = {Han Zhang and Ian Goodfellow and Dimitris Metaxas and Augustus Odena},\n",
        "    year    = {2018},\n",
        "    eprint  = {1805.08318},\n",
        "    archivePrefix = {arXiv}\n",
        "}\n",
        "\n",
        "@article{shen2019efficient,\n",
        "    author    = {Zhuoran Shen and\n",
        "               Mingyuan Zhang and\n",
        "               Haiyu Zhao and\n",
        "               Shuai Yi and\n",
        "               Hongsheng Li},\n",
        "    title     = {Efficient Attention: Attention with Linear Complexities},\n",
        "    journal   = {CoRR},  \n",
        "    year      = {2018},\n",
        "    url       = {http://arxiv.org/abs/1812.01243},\n",
        "}\n",
        "\n",
        "@article{zhao2020diffaugment,\n",
        "    title   = {Differentiable Augmentation for Data-Efficient GAN Training},\n",
        "    author  = {Zhao, Shengyu and Liu, Zhijian and Lin, Ji and Zhu, Jun-Yan and Han, Song},\n",
        "    journal = {arXiv preprint arXiv:2006.10738},\n",
        "    year    = {2020}\n",
        "}\n",
        "\n",
        "@misc{zhao2020image,\n",
        "    title  = {Image Augmentations for GAN Training},\n",
        "    author = {Zhengli Zhao and Zizhao Zhang and Ting Chen and Sameer Singh and Han Zhang},\n",
        "    year   = {2020},\n",
        "    eprint = {2006.02595},\n",
        "    archivePrefix = {arXiv}\n",
        "}\n",
        "\n",
        "@misc{karras2020training,\n",
        "    title   = {Training Generative Adversarial Networks with Limited Data},\n",
        "    author  = {Tero Karras and Miika Aittala and Janne Hellsten and Samuli Laine and Jaakko Lehtinen and Timo Aila},\n",
        "    year    = {2020},\n",
        "    eprint  = {2006.06676},\n",
        "    archivePrefix = {arXiv},\n",
        "    primaryClass = {cs.CV}\n",
        "}\n",
        "\n",
        "@misc{jolicoeurmartineau2018relativistic,\n",
        "    title   = {The relativistic discriminator: a key element missing from standard GAN},\n",
        "    author  = {Alexia Jolicoeur-Martineau},\n",
        "    year    = {2018},\n",
        "    eprint  = {1807.00734},\n",
        "    archivePrefix = {arXiv},\n",
        "    primaryClass = {cs.LG}\n",
        "}\n",
        "\n",
        "@misc{sinha2020topk,\n",
        "    title   = {Top-k Training of GANs: Improving GAN Performance by Throwing Away Bad Samples},\n",
        "    author  = {Samarth Sinha and Zhengli Zhao and Anirudh Goyal and Colin Raffel and Augustus Odena},\n",
        "    year    = {2020},\n",
        "    eprint  = {2002.06224},\n",
        "    archivePrefix = {arXiv},\n",
        "    primaryClass = {stat.ML}\n",
        "}\n",
        "\n",
        "@misc{yu2021dual,\n",
        "    title   = {Dual Contrastive Loss and Attention for GANs},\n",
        "    author  = {Ning Yu and Guilin Liu and Aysegul Dundar and Andrew Tao and Bryan Catanzaro and Larry Davis and Mario Fritz},\n",
        "    year    = {2021},\n",
        "    eprint  = {2103.16748},\n",
        "    archivePrefix = {arXiv},\n",
        "    primaryClass = {cs.CV}\n",
        "}"
      ],
      "id": "66fdcd8d",
      "execution_count": null,
      "outputs": []
    }
  ]
}